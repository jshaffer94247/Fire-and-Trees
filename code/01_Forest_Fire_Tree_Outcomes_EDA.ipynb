{
 "cells": [
  {
   "cell_type": "markdown",
   "metadata": {},
   "source": [
    "# 01_Forest_Fire_Tree_Outcomes_EDA\n",
    "\n",
    "This project will build on a recently published dataset (published today, actually).\n",
    "\n",
    "**The Fire and Tree Mortality Database, for empirical modeling of individual tree mortality after fire** by C. Alina Cansler et al., published 22 June 2020.\n",
    "\n",
    "Cansler, C.A., Hood, S.M., Varner, J.M. et al. The Fire and Tree Mortality Database, for empirical modeling of individual tree mortality after fire. Sci Data 7, 194 (2020). https://doi.org/10.1038/s41597-020-0522-7\n",
    "\n",
    "\n",
    "\n",
    "Developing a model that can predict tree recovery based on measured damage to a tree after a fire can help determine the best course of action when considering how to address partially burned trees in parks or on private land.\n",
    " \n",
    "In addition, this data can be combined with other forest and meteorological information to extend the types of predictions and inferences we can make around forest fires.\n",
    "\n",
    "\n",
    "## Contents\n",
    "\n",
    "1. Project goals and constraints\n",
    "2. Data gathering\n",
    "3. Explore the primary fire and tree data\n",
    "4. Explore secondary data sets\n",
    "5. Summary\n",
    "\n"
   ]
  },
  {
   "cell_type": "markdown",
   "metadata": {},
   "source": [
    "# 1. Project goals and constraints\n",
    "\n",
    "Goals: \n",
    "- Build a model to predict the survival of a tree based on damage sustained in a fire.\n",
    "- Examine the primary contributors to the success of the model, and compare to published model results (see Cansler)\n",
    "\n",
    "Evaluation:\n",
    "- TBD - expect to start with linear or logistical regression predicting the number of years of survival (need to finish more EDA on this and other sources first)\n",
    "- TBD - may try to replicate the work of previous models, in which case I'll use their metrics for comparison (need to read those papers first, though)\n",
    "- TBD - if I can get to the next level, which is to show that there is additional data that has predictive power (or \"identify knowledge gaps that could be addressed in future research\", as Cansler says) then I may add more \n",
    "\n",
    "Value: \n",
    "- Models for tree survival are used by forest and land management, possibly by homeowners\n",
    "- Cansler: \"pre-fire planning and post-fire decision support\"\n",
    "\n",
    "Time Frame: \n",
    "- A functioning model will be completed by 9 July 2020.\n",
    "- If time permits this will be extedned to include other data sources and insights. See the 'Roadmap' in the Summary section for where the expanding and contracting of focus will occur."
   ]
  },
  {
   "cell_type": "markdown",
   "metadata": {},
   "source": [
    "## Proposed methods and models\n",
    "* **Methods**\n",
    "  * EDA on core data; identification of supporting data\n",
    "  * Build a model\n",
    "      * DecisionTree is required for obvious reasons\n",
    "      * Replicate the models built by others but using this much fuller dataset\n",
    "  * Think outside the boxwood\n",
    "* **Models under consideration**\n",
    "  * PCA \n",
    "  * ...TODO: Fill this in"
   ]
  },
  {
   "cell_type": "markdown",
   "metadata": {},
   "source": [
    "## Risks & Assumptions\n",
    "\n",
    "|ID|Description|Possible Migitation(s)|\n",
    "|---|---|---|\n",
    "|1|Kaggle|Make my project better than theirs.|\n",
    "|2|||"
   ]
  },
  {
   "cell_type": "markdown",
   "metadata": {},
   "source": [
    "## Revisions\n",
    "\n",
    "There are no revisions yet. "
   ]
  },
  {
   "cell_type": "markdown",
   "metadata": {},
   "source": [
    "# 2. Data gathering\n",
    "\n",
    "The central data comes from the 2020-06-22 publication of **The Fire and Tree Mortality Database, for empirical modeling of individual tree mortality after fire** by Cansler et al., which is in turn a collection of data from 41 other datasets, some of which were compilations already.\n",
    "\n",
    "By the end of this project, it is likely that I will have combined this with a couple of other datasets\n",
    "\n",
    "|Dataset Name|Source|Link|Notes||\n",
    "|---|---|---|---|---|\n",
    "|**Fire and Tree Mortality Database**|nature.com datasets|https://www.nature.com/articles/s41597-020-0522-7|Burn extent and 0-to-10 year outcomes for 160k+ trees||\n",
    "|Forest Fires Data Set|UCI, also Kaggle| https://archive.ics.uci.edu/ml/datasets/forest+fires|Dataset intended for predicting forest fires from weather conditions; I would use it to match weather pre-fire to tree outcomes post-fire||\n",
    "|TBD|TBD|TBD|Weather conditions in the weeks and years following the fire||\n",
    "|TBD|TBD|TBD|Satellite photos over the relevant years, possibly extending beyond the 10 years in the database||"
   ]
  },
  {
   "cell_type": "markdown",
   "metadata": {},
   "source": [
    "# 3. Explore the primary fire and tree data (Cansler et al.)"
   ]
  },
  {
   "cell_type": "markdown",
   "metadata": {},
   "source": [
    "## 3a. Imports and Globals"
   ]
  },
  {
   "cell_type": "code",
   "execution_count": 5,
   "metadata": {},
   "outputs": [],
   "source": [
    "import pandas as pd\n",
    "import matplotlib.pyplot as plt\n",
    "import seaborn as sns"
   ]
  },
  {
   "cell_type": "code",
   "execution_count": 6,
   "metadata": {},
   "outputs": [],
   "source": [
    "# Global options to increase rows and columns displayed\n",
    "pd.set_option('display.max_columns', None)\n",
    "# pd.reset_option(“max_columns”) # to reset back to limited columns\n",
    "\n",
    "pd.set_option(\"max_rows\", None)"
   ]
  },
  {
   "cell_type": "code",
   "execution_count": 7,
   "metadata": {},
   "outputs": [],
   "source": [
    "fname_trees = './Data/FTM_trees.csv'\n",
    "fname_fires = './Data/FTM_fires.csv'"
   ]
  },
  {
   "cell_type": "code",
   "execution_count": 8,
   "metadata": {},
   "outputs": [],
   "source": [
    "!ls ./Data"
   ]
  },
  {
   "cell_type": "code",
   "execution_count": null,
   "metadata": {},
   "outputs": [],
   "source": [
    "df_trees = pd.read_csv(fname_trees)\n",
    "# issue on import:\n",
    "#/opt/anaconda3/envs/dsi/lib/python3.7/site-packages/IPython/core/interactiveshell.py:3063: DtypeWarning: \n",
    "# Columns (4,5,6,7,10,62,63) have mixed types.Specify dtype option on import or set low_memory=False.\n",
    "# interactivity=interactivity, compiler=compiler, result=result)\n",
    "\n",
    "# 4\n",
    "# 5\n",
    "# 6\n",
    "# 7\n",
    "# 10\n",
    "# 62\n",
    "# 63"
   ]
  },
  {
   "cell_type": "code",
   "execution_count": null,
   "metadata": {},
   "outputs": [],
   "source": [
    "df_fires = pd.read_csv(fname_fires)"
   ]
  },
  {
   "cell_type": "code",
   "execution_count": null,
   "metadata": {},
   "outputs": [],
   "source": [
    "print(f\"shape of trees: {df_trees.shape}\")\n",
    "print(f\"shape of fires: {df_fires.shape}\")\n",
    "\n",
    "num_trees = df_trees.shape[0]"
   ]
  },
  {
   "cell_type": "markdown",
   "metadata": {},
   "source": [
    "## 3b. Trees"
   ]
  },
  {
   "cell_type": "markdown",
   "metadata": {},
   "source": [
    "Data Dictionary\n",
    "\n",
    "From the file _metadata_RDS-2020-0001.html\n",
    "\n",
    "|Feature|Description|NA means|Notes|\n",
    "|---|---|---|---|\n",
    "|YrFireName||||\n",
    "|Species||||\n",
    "|Dataset||||\n",
    "|Times_burned|number of times this tree was burned|||\n",
    "|ID|Location within fire other than the plot number that is a location identifier in the original dataset. May include burn unit, region of fire, etc. |NA = not applicable.||\n",
    "|Plot|Plot number/name from original dataset. |NA = not applicable.||\n",
    "|TreeNum|Tree tag number from original dataset. |NA = tree numbers were not assessed in the original dataset.||\n",
    "|Unit|Unit name within a fire from original dataset.|NA = not applicable.||\n",
    "|||||\n",
    "|||||\n",
    "|||||\n",
    "|||||\n",
    "|||||\n",
    "|||||\n",
    "|||||\n",
    "|||||\n",
    "|||||\n"
   ]
  },
  {
   "cell_type": "code",
   "execution_count": null,
   "metadata": {},
   "outputs": [],
   "source": [
    "df_trees['ID'].value_counts()"
   ]
  },
  {
   "cell_type": "code",
   "execution_count": null,
   "metadata": {},
   "outputs": [],
   "source": [
    "df_trees.head(3)"
   ]
  },
  {
   "cell_type": "code",
   "execution_count": null,
   "metadata": {},
   "outputs": [],
   "source": [
    "df_trees['YrFireName'].value_counts()"
   ]
  },
  {
   "cell_type": "code",
   "execution_count": null,
   "metadata": {},
   "outputs": [],
   "source": [
    "df_trees[df_trees['YrFireName']=='1998 - BAND 30']"
   ]
  },
  {
   "cell_type": "code",
   "execution_count": null,
   "metadata": {},
   "outputs": [],
   "source": [
    "# look at distributions of trees over the years\n",
    "\n",
    "print(f\"Fraction alive year  0: {df_trees['yr0status'].notnull().sum()/num_trees:.02f}\")\n",
    "print(f\"Fraction alive year  1: {df_trees['yr1status'].notnull().sum()/num_trees:.02f}\")\n",
    "print(f\"Fraction alive year  2: {df_trees['yr2status'].notnull().sum()/num_trees:.02f}\")\n",
    "print(f\"Fraction alive year  3: {df_trees['yr3status'].notnull().sum()/num_trees:.02f}\")\n",
    "print(f\"Fraction alive year  4: {df_trees['yr4status'].notnull().sum()/num_trees:.02f}\")\n",
    "print(f\"Fraction alive year  5: {df_trees['yr5status'].notnull().sum()/num_trees:.02f}\")\n",
    "\n",
    "print(f\"Fraction alive year  6: {df_trees['yr6status'].notnull().sum()/num_trees:.02f}\")\n",
    "print(f\"Fraction alive year  7: {df_trees['yr7status'].notnull().sum()/num_trees:.02f}\")\n",
    "print(f\"Fraction alive year  8: {df_trees['yr8status'].notnull().sum()/num_trees:.02f}\")\n",
    "print(f\"Fraction alive year  9: {df_trees['yr9status'].notnull().sum()/num_trees:.02f}\")\n",
    "print(f\"Fraction alive year 10: {df_trees['yr10status'].notnull().sum()/num_trees:.02f}\")\n"
   ]
  },
  {
   "cell_type": "markdown",
   "metadata": {},
   "source": [
    "## Fires"
   ]
  },
  {
   "cell_type": "code",
   "execution_count": null,
   "metadata": {
    "scrolled": true
   },
   "outputs": [],
   "source": [
    "df_fires.head()"
   ]
  },
  {
   "cell_type": "code",
   "execution_count": null,
   "metadata": {},
   "outputs": [],
   "source": [
    "df_fires['State'].value_counts()"
   ]
  },
  {
   "cell_type": "code",
   "execution_count": null,
   "metadata": {},
   "outputs": [],
   "source": [
    "whos"
   ]
  },
  {
   "cell_type": "markdown",
   "metadata": {},
   "source": [
    "# 4. Explore secondary data sets"
   ]
  },
  {
   "cell_type": "markdown",
   "metadata": {},
   "source": [
    "# 5. Summary"
   ]
  },
  {
   "cell_type": "code",
   "execution_count": null,
   "metadata": {},
   "outputs": [],
   "source": [
    "## Identify the data types you are working with\n",
    "\n",
    "See the data dictionary"
   ]
  },
  {
   "cell_type": "code",
   "execution_count": null,
   "metadata": {},
   "outputs": [],
   "source": [
    "## Examing the distributions of your data, numerically and/or visually"
   ]
  },
  {
   "cell_type": "code",
   "execution_count": null,
   "metadata": {},
   "outputs": [],
   "source": [
    "## Identify outliers"
   ]
  },
  {
   "cell_type": "code",
   "execution_count": null,
   "metadata": {},
   "outputs": [],
   "source": [
    "## Identify missing data and look for patterns of missing data"
   ]
  },
  {
   "cell_type": "code",
   "execution_count": null,
   "metadata": {},
   "outputs": [],
   "source": [
    "## Describe how your EDA will inform your modeling decisions and process"
   ]
  },
  {
   "cell_type": "markdown",
   "metadata": {},
   "source": [
    "## Roadmap and milestones\n",
    " - Mon 22 June - **Capstone checkin #2 EDA + Plan**\n",
    "   - 0 to 60 in 1 day -- data was published this morning, I found it, capstone revised\n",
    "   - EDA off to the races\n",
    "  \n",
    " - Mon 29 June\n",
    "   - tree mortality prediction models -- obviously have to try some kind of DecisionTree\n",
    "   - classification of tree damage?\n",
    "   - brainstorm of other data and context info complete, top ideas prioritized\n",
    "  \n",
    " - Weds 1 July - **Capstone checkin #3 Progress update**\n",
    "   - explore possible innovations\n",
    "   - explore expansions\n",
    "  \n",
    " - Mon 06 July \n",
    "   - wind up the expansions; finalize what makes it into the capstone phase\n",
    "   - organize & hide the stuff that won't finish\n",
    "   - start writing reports\n",
    "   \n",
    " - Thu 09 July - **Capstone checkin #4 Report writeup**\n",
    "   - report should be well under way\n",
    "   \n",
    " - Mon 13 July     \n",
    "   - repo ready\n",
    "   \n",
    " - Weds 15 July - **Capstone checkin #5 Presentation**"
   ]
  },
  {
   "cell_type": "code",
   "execution_count": null,
   "metadata": {},
   "outputs": [],
   "source": []
  }
 ],
 "metadata": {
  "kernelspec": {
   "display_name": "Python 3",
   "language": "python",
   "name": "python3"
  },
  "language_info": {
   "codemirror_mode": {
    "name": "ipython",
    "version": 3
   },
   "file_extension": ".py",
   "mimetype": "text/x-python",
   "name": "python",
   "nbconvert_exporter": "python",
   "pygments_lexer": "ipython3",
   "version": "3.7.7"
  }
 },
 "nbformat": 4,
 "nbformat_minor": 4
}
